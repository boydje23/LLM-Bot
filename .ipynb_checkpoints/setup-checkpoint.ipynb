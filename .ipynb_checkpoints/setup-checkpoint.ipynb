{
 "cells": [
  {
   "cell_type": "code",
   "execution_count": 44,
   "id": "1e2148dd-39f1-4c80-b3ca-b883a9fdda31",
   "metadata": {},
   "outputs": [
    {
     "name": "stdout",
     "output_type": "stream",
     "text": [
      "cpu\n"
     ]
    }
   ],
   "source": [
    "import torch\n",
    "#device = 'cuda' if torch.cuda.is_available() else 'cpu'\n",
    "#print(device)"
   ]
  },
  {
   "cell_type": "code",
   "execution_count": 30,
   "id": "61a09cab-fd63-4c39-a7cd-e07a6d34b149",
   "metadata": {},
   "outputs": [
    {
     "data": {
      "text/plain": [
       "4"
      ]
     },
     "execution_count": 30,
     "metadata": {},
     "output_type": "execute_result"
    }
   ],
   "source": [
    "a = 4\n",
    "a"
   ]
  },
  {
   "cell_type": "code",
   "execution_count": 31,
   "id": "7e741f0f-0654-4ff2-b891-53d8610b6b45",
   "metadata": {},
   "outputs": [
    {
     "name": "stdout",
     "output_type": "stream",
     "text": [
      "['\\n', ' ', '!', '\"', \"'\", ',', '-', '.', '/', '0', '1', '4', '5', '?', 'A', 'B', 'C', 'D', 'E', 'F', 'G', 'H', 'I', 'L', 'M', 'N', 'O', 'P', 'R', 'S', 'T', 'U', 'W', 'Y', 'a', 'b', 'c', 'd', 'e', 'f', 'g', 'h', 'i', 'j', 'k', 'l', 'm', 'n', 'o', 'p', 'q', 'r', 's', 't', 'u', 'v', 'w', 'x', 'y', 'z', '—', '’', '“', '”', '…']\n"
     ]
    }
   ],
   "source": [
    "with open('testing.txt', 'r', encoding= 'utf-8') as f:\n",
    "    text = f.read()\n",
    "chars = sorted(set(text))\n",
    "print(chars)\n",
    "vocabulary_size = (len(chars))\n"
   ]
  },
  {
   "cell_type": "code",
   "execution_count": 35,
   "id": "1a60b3ba-1207-410d-a729-936d5fe7b54a",
   "metadata": {},
   "outputs": [
    {
     "name": "stdout",
     "output_type": "stream",
     "text": [
      "tensor([ 0, 19, 51, 48, 46,  1, 53, 41, 38,  1, 52, 49, 42, 47, 38,  6, 36, 41,\n",
      "        42, 45, 45, 42, 47, 40,  1, 52, 54, 52, 49, 38, 47, 52, 38,  1, 48, 39,\n",
      "         1, 34,  1, 41, 48, 51, 51, 48, 51,  1, 39, 42, 45, 46,  1, 53, 48,  1,\n",
      "        53, 41, 38,  1, 34, 37, 51, 38, 47, 34, 45, 42, 47, 38,  6, 49, 54, 46,\n",
      "        49, 42, 47, 40,  1, 34, 36, 53, 42, 48, 47,  1, 48, 39,  1, 34,  1, 53,\n",
      "        41, 51, 42, 45, 45, 38, 51,  5,  1, 53])\n"
     ]
    }
   ],
   "source": [
    "string_to_int = { ch:i for i, ch in enumerate(chars)}\n",
    "int_to_string = { i:ch for i, ch in enumerate(chars)}\n",
    "encode = lambda s:[string_to_int[c] for c in s]\n",
    "decode = lambda l:\"\".join([int_to_string[i] for i in l])\n",
    "#TOKENIZERS\n",
    "\n",
    "data = torch.tensor(encode(text), dtype = torch.long)\n",
    "print(data[:100])\n",
    "\n",
    "\n",
    "#encoded_hello = (encode('hello'))\n",
    "#decoded_hello = decode(encoded_hello)\n",
    "#print(decoded_hello)"
   ]
  },
  {
   "cell_type": "code",
   "execution_count": 37,
   "id": "cf79b5e1-a9a1-4fea-ba94-d8f3e8a27d61",
   "metadata": {},
   "outputs": [],
   "source": [
    "n = int(0.8*len(data))\n",
    "train_data = data[:n]\n",
    "val_data = data[n:]"
   ]
  },
  {
   "cell_type": "code",
   "execution_count": 39,
   "id": "be72b27a-5bfb-4d2e-a155-59dea1e590f8",
   "metadata": {},
   "outputs": [
    {
     "name": "stdout",
     "output_type": "stream",
     "text": [
      "when input is tensor([0]) target is tensor(19)\n",
      "when input is tensor([ 0, 19]) target is tensor(51)\n",
      "when input is tensor([ 0, 19, 51]) target is tensor(48)\n",
      "when input is tensor([ 0, 19, 51, 48]) target is tensor(46)\n",
      "when input is tensor([ 0, 19, 51, 48, 46]) target is tensor(1)\n",
      "when input is tensor([ 0, 19, 51, 48, 46,  1]) target is tensor(53)\n",
      "when input is tensor([ 0, 19, 51, 48, 46,  1, 53]) target is tensor(41)\n",
      "when input is tensor([ 0, 19, 51, 48, 46,  1, 53, 41]) target is tensor(38)\n"
     ]
    }
   ],
   "source": [
    "block_size = 8 \n",
    "\n",
    "x = train_data[:block_size]\n",
    "y = train_data[1:block_size+1]\n",
    "\n",
    "for t in range(block_size):\n",
    "    context = x[:t+1]\n",
    "    target = y[t]\n",
    "    print('when input is', context, 'target is', target)\n"
   ]
  },
  {
   "cell_type": "code",
   "execution_count": 41,
   "id": "956fbc2b-f2bb-4964-bca7-f3a586fcbf68",
   "metadata": {},
   "outputs": [
    {
     "name": "stdout",
     "output_type": "stream",
     "text": [
      "\n",
      "From th\n"
     ]
    }
   ],
   "source": [
    "print(decode([0,19,51,48,46,1,53,41]))"
   ]
  },
  {
   "cell_type": "code",
   "execution_count": null,
   "id": "cdbac878-c955-4ae9-8e00-63e152aba116",
   "metadata": {},
   "outputs": [],
   "source": []
  },
  {
   "cell_type": "code",
   "execution_count": null,
   "id": "2b4676b0-7140-4d83-93c9-2fb01d5deba1",
   "metadata": {},
   "outputs": [],
   "source": []
  }
 ],
 "metadata": {
  "kernelspec": {
   "display_name": "cuda-gpt",
   "language": "python",
   "name": "cuda"
  },
  "language_info": {
   "codemirror_mode": {
    "name": "ipython",
    "version": 3
   },
   "file_extension": ".py",
   "mimetype": "text/x-python",
   "name": "python",
   "nbconvert_exporter": "python",
   "pygments_lexer": "ipython3",
   "version": "3.12.4"
  }
 },
 "nbformat": 4,
 "nbformat_minor": 5
}
