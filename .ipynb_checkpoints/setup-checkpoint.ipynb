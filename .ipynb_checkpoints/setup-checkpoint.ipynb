{
 "cells": [
  {
   "cell_type": "code",
   "execution_count": 423,
   "id": "1e2148dd-39f1-4c80-b3ca-b883a9fdda31",
   "metadata": {},
   "outputs": [],
   "source": [
    "import requests\n",
    "import torch\n",
    "import bs4\n",
    "from bs4 import BeautifulSoup\n",
    "\n",
    "#device = 'cuda' if torch.cuda.is_available() else 'cpu'\n",
    "#print(device)"
   ]
  },
  {
   "cell_type": "code",
   "execution_count": 446,
   "id": "458d703e-713f-4845-9aec-8b07fea09ab7",
   "metadata": {},
   "outputs": [],
   "source": [
    "url = \"https://www.etsy.com/listing/1779859770/custom-sweatshirt-personalized-text?ga_order=most_relevant&ga_search_type=all&ga_view_type=gallery&ga_search_query=clothing&ref=sc_gallery-1-2&pro=1&pop=1&plkey=a36eb9843894bd3a04fe1dcefa8e9116591bd734%3A1779859770\""
   ]
  },
  {
   "cell_type": "code",
   "execution_count": 448,
   "id": "a794345a-f088-4660-83a9-42bfea6431fb",
   "metadata": {},
   "outputs": [],
   "source": [
    "headers = {\n",
    "    \"user-Agent\": 'Mozilla/5.0 (Macintosh; Intel Mac OS X 10_15_7) AppleWebKit/537.36 (KHTML, like Gecko) Chrome/130.0.0.0 Safari/537.36'\n",
    "}"
   ]
  },
  {
   "cell_type": "code",
   "execution_count": 450,
   "id": "08743dc0-7261-48d1-90d7-d751aa4183d3",
   "metadata": {},
   "outputs": [
    {
     "name": "stdout",
     "output_type": "stream",
     "text": [
      "[<html><head><title>etsy.com</title><style>#cmsg{animation: A 1.5s;}@keyframes A{0%{opacity:0;}99%{opacity:0;}100%{opacity:1;}}</style></head><body style=\"margin:0\"><p id=\"cmsg\">Please enable JS and disable any ad blocker</p><script data-cfasync=\"false\">var dd={'rt':'c','cid':'AHrlqAAAAAMAC9PG5utup9QAmBGcxQ==','hsh':'D013AA612AB2224D03B2318D0F5B19','t':'bv','s':45946,'e':'48c88d164fa1a0b3eed0c8f798fd12087a366bd69e2d75a862721b71584dcdb6','host':'geo.captcha-delivery.com','cookie':'uKKh3ta_biouHujCbNC~~HscIhijLMMf3iixE70BFTJGGLcGMAKjg6vnn31kC1vGjkQWC_YkFNt3vxcRUAePoZCf6bqRSjo0_RjQBJT4o401yCX8tuZ8S~qCtvHH9p2B'}</script><script data-cfasync=\"false\" src=\"https://ct.captcha-delivery.com/c.js\"></script></body></html>, <head><title>etsy.com</title><style>#cmsg{animation: A 1.5s;}@keyframes A{0%{opacity:0;}99%{opacity:0;}100%{opacity:1;}}</style></head>, <title>etsy.com</title>, <style>#cmsg{animation: A 1.5s;}@keyframes A{0%{opacity:0;}99%{opacity:0;}100%{opacity:1;}}</style>, <body style=\"margin:0\"><p id=\"cmsg\">Please enable JS and disable any ad blocker</p><script data-cfasync=\"false\">var dd={'rt':'c','cid':'AHrlqAAAAAMAC9PG5utup9QAmBGcxQ==','hsh':'D013AA612AB2224D03B2318D0F5B19','t':'bv','s':45946,'e':'48c88d164fa1a0b3eed0c8f798fd12087a366bd69e2d75a862721b71584dcdb6','host':'geo.captcha-delivery.com','cookie':'uKKh3ta_biouHujCbNC~~HscIhijLMMf3iixE70BFTJGGLcGMAKjg6vnn31kC1vGjkQWC_YkFNt3vxcRUAePoZCf6bqRSjo0_RjQBJT4o401yCX8tuZ8S~qCtvHH9p2B'}</script><script data-cfasync=\"false\" src=\"https://ct.captcha-delivery.com/c.js\"></script></body>, <p id=\"cmsg\">Please enable JS and disable any ad blocker</p>, <script data-cfasync=\"false\">var dd={'rt':'c','cid':'AHrlqAAAAAMAC9PG5utup9QAmBGcxQ==','hsh':'D013AA612AB2224D03B2318D0F5B19','t':'bv','s':45946,'e':'48c88d164fa1a0b3eed0c8f798fd12087a366bd69e2d75a862721b71584dcdb6','host':'geo.captcha-delivery.com','cookie':'uKKh3ta_biouHujCbNC~~HscIhijLMMf3iixE70BFTJGGLcGMAKjg6vnn31kC1vGjkQWC_YkFNt3vxcRUAePoZCf6bqRSjo0_RjQBJT4o401yCX8tuZ8S~qCtvHH9p2B'}</script>, <script data-cfasync=\"false\" src=\"https://ct.captcha-delivery.com/c.js\"></script>]\n"
     ]
    }
   ],
   "source": [
    "r = requests.get(url,{'headers': headers})\n",
    "soup = bs4.BeautifulSoup(r.text,'html.parser')\n",
    "print(soup.find_all())"
   ]
  },
  {
   "cell_type": "code",
   "execution_count": 434,
   "id": "ed2ee152-5e3d-4eb2-b3bb-f2b3d77e57d9",
   "metadata": {},
   "outputs": [
    {
     "ename": "IndexError",
     "evalue": "list index out of range",
     "output_type": "error",
     "traceback": [
      "\u001b[0;31m---------------------------------------------------------------------------\u001b[0m",
      "\u001b[0;31mIndexError\u001b[0m                                Traceback (most recent call last)",
      "Cell \u001b[0;32mIn[434], line 2\u001b[0m\n\u001b[1;32m      1\u001b[0m \u001b[38;5;66;03m#price = soup.find_all('div',{'class' : 'caption'})[0].find_all('h4')[0].text\u001b[39;00m\n\u001b[0;32m----> 2\u001b[0m price \u001b[38;5;241m=\u001b[39m soup\u001b[38;5;241m.\u001b[39mfind_all(\u001b[38;5;124m'\u001b[39m\u001b[38;5;124mdiv\u001b[39m\u001b[38;5;124m'\u001b[39m,{\u001b[38;5;124m'\u001b[39m\u001b[38;5;124mid\u001b[39m\u001b[38;5;124m'\u001b[39m : \u001b[38;5;124m'\u001b[39m\u001b[38;5;124mavalibility\u001b[39m\u001b[38;5;124m'\u001b[39m})[\u001b[38;5;241m0\u001b[39m]\u001b[38;5;241m.\u001b[39mfind_all(\u001b[38;5;124m'\u001b[39m\u001b[38;5;124mspan\u001b[39m\u001b[38;5;124m'\u001b[39m)[\u001b[38;5;241m0\u001b[39m]\u001b[38;5;241m.\u001b[39mtext\n\u001b[1;32m      3\u001b[0m \u001b[38;5;66;03m#phone = soup.find_all('div',{'class': 'caption'})[0].find_all('a')[0].text\u001b[39;00m\n\u001b[1;32m      4\u001b[0m \u001b[38;5;28mprint\u001b[39m(price)\n",
      "\u001b[0;31mIndexError\u001b[0m: list index out of range"
     ]
    }
   ],
   "source": [
    "#price = soup.find_all('div',{'class' : 'caption'})[0].find_all('h4')[0].text\n",
    "price = soup.find_all('div',{'id' : 'avalibility'})[0].find_all('span')[0].text\n",
    "#phone = soup.find_all('div',{'class': 'caption'})[0].find_all('a')[0].text\n",
    "print(price)"
   ]
  },
  {
   "cell_type": "code",
   "execution_count": 141,
   "id": "406ef592-1df8-4285-809b-ea8b812053f0",
   "metadata": {},
   "outputs": [
    {
     "name": "stdout",
     "output_type": "stream",
     "text": [
      "1:Nokia 123\t\t $24.99\n",
      "2:LG Optimus\t\t $57.99\n",
      "3:Samsung Galaxy\t $93.99\n",
      "4:Nokia X\t\t $109.99\n",
      "5:Sony Xperia\t\t $118.99\n",
      "6:Ubuntu Edge\t\t $499.99\n",
      "7:Iphone\t\t $899.99\n",
      "8:Iphone\t\t $899.99\n",
      "9:Iphone\t\t $899.99\n"
     ]
    }
   ],
   "source": [
    "i = 0\n",
    "while i < 9:\n",
    "    price = soup.find_all('div',{'class': 'caption'})[i].find_all('span')[0].text  \n",
    "    phone = soup.find_all('div',{'class': 'caption'})[i].find_all('a')[0].text\n",
    "    if len(phone) > 12:\n",
    "        print(str(i+1) + \":\" + phone + \"\\t \" +price)\n",
    "    else:\n",
    "        print(str(i+1) + \":\" +phone + \"\\t\\t \" +price)\n",
    "    i+=1\n"
   ]
  },
  {
   "cell_type": "code",
   "execution_count": 383,
   "id": "8d0f6520-271d-4a55-bc83-d163c8f2b30e",
   "metadata": {},
   "outputs": [
    {
     "name": "stdout",
     "output_type": "stream",
     "text": [
      "1:Nokia 123\t\t $24.99\n",
      "2:LG Optimus\t\t $57.99\n",
      "3:Samsung Galaxy\t $93.99\n",
      "4:Nokia X\t\t $109.99\n",
      "5:Sony Xperia\t\t $118.99\n",
      "6:Ubuntu Edge\t\t $499.99\n",
      "7:Iphone\t\t $899.99\n",
      "8:Iphone\t\t $899.99\n",
      "9:Iphone\t\t $899.99\n"
     ]
    }
   ],
   "source": [
    "i = 0\n",
    "while i<9:\n",
    "\n",
    "    price = soup.find_all('div',{'class': 'caption'})[i].find_all('h4')[0].text  \n",
    "    phone = soup.find_all('div',{'class': 'caption'})[i].find_all('a')[0].text\n",
    "    if len(phone) > 12:\n",
    "        print(str(i+1) + \":\" + phone + \"\\t \" + price)\n",
    "    else:\n",
    "        print(str(i+1) + \":\" +phone + \"\\t\\t \" + price)\n",
    "    i+=1\n"
   ]
  },
  {
   "cell_type": "code",
   "execution_count": 385,
   "id": "4068ee4e-ee71-4d9f-9eff-9b09979279b7",
   "metadata": {},
   "outputs": [
    {
     "name": "stdout",
     "output_type": "stream",
     "text": [
      "3\n",
      "3\n",
      "3\n",
      "4\n",
      "1\n",
      "1\n",
      "1\n",
      "2\n",
      "1\n"
     ]
    }
   ],
   "source": [
    "i = 0\n",
    "while i<9:\n",
    "    rating = soup.find_all('div',{'class' : 'ratings'})[i].find_all('p',{'data-rating': True})[0]['data-rating']  \n",
    "    print(rating)\n",
    "    i+=1"
   ]
  },
  {
   "cell_type": "code",
   "execution_count": 381,
   "id": "5c5e92c8-a4ac-40c2-afb9-760e404a8970",
   "metadata": {},
   "outputs": [
    {
     "name": "stdout",
     "output_type": "stream",
     "text": [
      "Phone: Nokia 123, \t\t Price: $24.99, \t\t Rating: 3 stars\n",
      "Phone: LG Optimus, \t\t Price: $57.99, \t\t Rating: 3 stars\n",
      "Phone: Samsung Galaxy, \t\t Price: $93.99, \t\t Rating: 3 stars\n",
      "Phone: Nokia X, \t\t Price: $109.99, \t\t Rating: 4 stars\n",
      "Phone: Sony Xperia, \t\t Price: $118.99, \t\t Rating: 1 stars\n",
      "Phone: Ubuntu Edge, \t\t Price: $499.99, \t\t Rating: 1 stars\n",
      "Phone: Iphone, \t\t\t Price: $899.99, \t\t Rating: 1 stars\n",
      "Phone: Iphone, \t\t\t Price: $899.99, \t\t Rating: 2 stars\n",
      "Phone: Iphone, \t\t\t Price: $899.99, \t\t Rating: 1 stars\n"
     ]
    }
   ],
   "source": [
    "i = 0\n",
    "\n",
    "phones = []\n",
    "prices = []\n",
    "ratings = []\n",
    "\n",
    "while i < 9:\n",
    "    price = soup.find_all('div',{'class': 'caption'})[i].find_all('h4')[0].text  \n",
    "    phone = soup.find_all('div',{'class': 'caption'})[i].find_all('a')[0].text\n",
    "    rating = soup.find_all('div', {'class': 'ratings'})[i].find_all('p', {'data-rating': True})[0]['data-rating']\n",
    "    \n",
    "    phones.append(phone)  \n",
    "    prices.append(float(price.replace('$', '').replace(',', '')))  # Clean and convert price to integer\n",
    "    ratings.append(int(rating)) \n",
    "    \n",
    "    i += 1\n",
    "\n",
    "for i in range(9):\n",
    "    if len(phones[i]) < 7:\n",
    "        print(f\"Phone: {phones[i]}, \\t\\t\\t Price: ${prices[i]}, \\t\\t Rating: {ratings[i]} stars\")\n",
    "    else:\n",
    "        print(f\"Phone: {phones[i]}, \\t\\t Price: ${prices[i]}, \\t\\t Rating: {ratings[i]} stars\")\n",
    "           \n"
   ]
  },
  {
   "cell_type": "code",
   "execution_count": 287,
   "id": "bf92af76-d9ce-4120-97eb-e6b7f0d97a83",
   "metadata": {},
   "outputs": [
    {
     "name": "stdout",
     "output_type": "stream",
     "text": [
      "3\n"
     ]
    }
   ],
   "source": [
    "rating = soup.find_all('div',{'class' : 'ratings'})[i].find_all('p',{'data-rating': True})[0]['data-rating']\n",
    "print(rating)"
   ]
  },
  {
   "cell_type": "code",
   "execution_count": 307,
   "id": "f1060384-e327-4eb5-bee3-d9eddfbf25b8",
   "metadata": {},
   "outputs": [
    {
     "name": "stdout",
     "output_type": "stream",
     "text": [
      "1:Nokia 123\t\t $24.99\n",
      "2:LG Optimus\t\t $57.99\n",
      "3:Samsung Galaxy\t $93.99\n",
      "4:Nokia X\t\t $109.99\n",
      "5:Sony Xperia\t\t $118.99\n",
      "6:Ubuntu Edge\t\t $499.99\n",
      "7:Iphone\t\t $899.99\n",
      "8:Iphone\t\t $899.99\n",
      "9:Iphone\t\t $899.99\n"
     ]
    }
   ],
   "source": [
    "i = 0\n",
    "while i<9:\n",
    "\n",
    "    price = soup.find_all('div',{'class': 'caption'})[i].find_all('h4')[0].text  \n",
    "    phone = soup.find_all('div',{'class': 'caption'})[i].find_all('a')[0].text\n",
    "    if len(phone) > 12:\n",
    "        print(str(i+1) + \":\" + phone + \"\\t \" +price)\n",
    "    else:\n",
    "        print(str(i+1) + \":\" +phone + \"\\t\\t \" +price)\n",
    "    i+=1"
   ]
  },
  {
   "cell_type": "code",
   "execution_count": 153,
   "id": "61a09cab-fd63-4c39-a7cd-e07a6d34b149",
   "metadata": {},
   "outputs": [
    {
     "name": "stdout",
     "output_type": "stream",
     "text": [
      "mom is cool\n"
     ]
    }
   ],
   "source": [
    "a = 4\n",
    "a\n",
    "hello = \"my mom is cool\"\n",
    "print(hello[3:])"
   ]
  },
  {
   "cell_type": "code",
   "execution_count": 31,
   "id": "7e741f0f-0654-4ff2-b891-53d8610b6b45",
   "metadata": {},
   "outputs": [
    {
     "name": "stdout",
     "output_type": "stream",
     "text": [
      "['\\n', ' ', '!', '\"', \"'\", ',', '-', '.', '/', '0', '1', '4', '5', '?', 'A', 'B', 'C', 'D', 'E', 'F', 'G', 'H', 'I', 'L', 'M', 'N', 'O', 'P', 'R', 'S', 'T', 'U', 'W', 'Y', 'a', 'b', 'c', 'd', 'e', 'f', 'g', 'h', 'i', 'j', 'k', 'l', 'm', 'n', 'o', 'p', 'q', 'r', 's', 't', 'u', 'v', 'w', 'x', 'y', 'z', '—', '’', '“', '”', '…']\n"
     ]
    }
   ],
   "source": [
    "with open('testing.txt', 'r', encoding= 'utf-8') as f:\n",
    "    text = f.read()\n",
    "chars = sorted(set(text))\n",
    "print(chars)\n",
    "vocabulary_size = (len(chars))\n"
   ]
  },
  {
   "cell_type": "code",
   "execution_count": 35,
   "id": "1a60b3ba-1207-410d-a729-936d5fe7b54a",
   "metadata": {},
   "outputs": [
    {
     "name": "stdout",
     "output_type": "stream",
     "text": [
      "tensor([ 0, 19, 51, 48, 46,  1, 53, 41, 38,  1, 52, 49, 42, 47, 38,  6, 36, 41,\n",
      "        42, 45, 45, 42, 47, 40,  1, 52, 54, 52, 49, 38, 47, 52, 38,  1, 48, 39,\n",
      "         1, 34,  1, 41, 48, 51, 51, 48, 51,  1, 39, 42, 45, 46,  1, 53, 48,  1,\n",
      "        53, 41, 38,  1, 34, 37, 51, 38, 47, 34, 45, 42, 47, 38,  6, 49, 54, 46,\n",
      "        49, 42, 47, 40,  1, 34, 36, 53, 42, 48, 47,  1, 48, 39,  1, 34,  1, 53,\n",
      "        41, 51, 42, 45, 45, 38, 51,  5,  1, 53])\n"
     ]
    }
   ],
   "source": [
    "string_to_int = { ch:i for i, ch in enumerate(chars)}\n",
    "int_to_string = { i:ch for i, ch in enumerate(chars)}\n",
    "encode = lambda s:[string_to_int[c] for c in s]\n",
    "decode = lambda l:\"\".join([int_to_string[i] for i in l])\n",
    "#TOKENIZERS\n",
    "\n",
    "data = torch.tensor(encode(text), dtype = torch.long)\n",
    "print(data[:100])\n",
    "\n",
    "\n",
    "#encoded_hello = (encode('hello'))\n",
    "#decoded_hello = decode(encoded_hello)\n",
    "#print(decoded_hello)"
   ]
  },
  {
   "cell_type": "code",
   "execution_count": 37,
   "id": "cf79b5e1-a9a1-4fea-ba94-d8f3e8a27d61",
   "metadata": {},
   "outputs": [],
   "source": [
    "n = int(0.8*len(data))\n",
    "train_data = data[:n]\n",
    "val_data = data[n:]"
   ]
  },
  {
   "cell_type": "code",
   "execution_count": 39,
   "id": "be72b27a-5bfb-4d2e-a155-59dea1e590f8",
   "metadata": {},
   "outputs": [
    {
     "name": "stdout",
     "output_type": "stream",
     "text": [
      "when input is tensor([0]) target is tensor(19)\n",
      "when input is tensor([ 0, 19]) target is tensor(51)\n",
      "when input is tensor([ 0, 19, 51]) target is tensor(48)\n",
      "when input is tensor([ 0, 19, 51, 48]) target is tensor(46)\n",
      "when input is tensor([ 0, 19, 51, 48, 46]) target is tensor(1)\n",
      "when input is tensor([ 0, 19, 51, 48, 46,  1]) target is tensor(53)\n",
      "when input is tensor([ 0, 19, 51, 48, 46,  1, 53]) target is tensor(41)\n",
      "when input is tensor([ 0, 19, 51, 48, 46,  1, 53, 41]) target is tensor(38)\n"
     ]
    }
   ],
   "source": [
    "block_size = 8 \n",
    "\n",
    "x = train_data[:block_size]\n",
    "y = train_data[1:block_size+1]\n",
    "\n",
    "for t in range(block_size):\n",
    "    context = x[:t+1]\n",
    "    target = y[t]\n",
    "    print('when input is', context, 'target is', target)\n"
   ]
  },
  {
   "cell_type": "code",
   "execution_count": 41,
   "id": "956fbc2b-f2bb-4964-bca7-f3a586fcbf68",
   "metadata": {},
   "outputs": [
    {
     "name": "stdout",
     "output_type": "stream",
     "text": [
      "\n",
      "From th\n"
     ]
    }
   ],
   "source": [
    "print(decode([0,19,51,48,46,1,53,41]))"
   ]
  },
  {
   "cell_type": "code",
   "execution_count": null,
   "id": "2b4676b0-7140-4d83-93c9-2fb01d5deba1",
   "metadata": {},
   "outputs": [],
   "source": []
  }
 ],
 "metadata": {
  "kernelspec": {
   "display_name": "cuda-gpt",
   "language": "python",
   "name": "cuda"
  },
  "language_info": {
   "codemirror_mode": {
    "name": "ipython",
    "version": 3
   },
   "file_extension": ".py",
   "mimetype": "text/x-python",
   "name": "python",
   "nbconvert_exporter": "python",
   "pygments_lexer": "ipython3",
   "version": "3.12.4"
  }
 },
 "nbformat": 4,
 "nbformat_minor": 5
}
