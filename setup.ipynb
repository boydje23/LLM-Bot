{
 "cells": [
  {
   "cell_type": "code",
   "execution_count": 9,
   "id": "61a09cab-fd63-4c39-a7cd-e07a6d34b149",
   "metadata": {},
   "outputs": [
    {
     "data": {
      "text/plain": [
       "9"
      ]
     },
     "execution_count": 9,
     "metadata": {},
     "output_type": "execute_result"
    }
   ],
   "source": [
    "a = 4\n",
    "a"
   ]
  },
  {
   "cell_type": "code",
   "execution_count": 1,
   "id": "7e741f0f-0654-4ff2-b891-53d8610b6b45",
   "metadata": {},
   "outputs": [
    {
     "name": "stdout",
     "output_type": "stream",
     "text": [
      "\n",
      "From the spine-chilling suspense of a horror film to the adrenaline-pumping action of a thriller, the world offers a diverse range of genres, each with its own set of storytelling techniques and emotional impact. But what lies beyond these genres' surface? Analyzing work while focusing on genre allows readers to fully understand the deeper meaning and the purpose behind the writing. Although two seemingly different genres such as sonnets and analytical essays seem different they are actually quite similar. Examining the differences between school and self-sponsored writing we will critique how genres could have a lot of overlap. By exploring these themes we hope to further our understanding of writing and foster a love for the flexibility of genres. Focusing on the audience-to-author interaction and organization/ format of writing we learn a lot about how the genre allows for the author to make sense of their emotions and arguments. Genres serve as essential organizational tools in hu\n"
     ]
    }
   ],
   "source": [
    "with open('testing.txt', 'r', encoding= 'utf-8') as f:\n",
    "    text = f. read()\n",
    "print(text [ :1000])"
   ]
  },
  {
   "cell_type": "code",
   "execution_count": null,
   "id": "a7a243b9-c392-4495-bf10-d30cd62d2016",
   "metadata": {},
   "outputs": [],
   "source": []
  }
 ],
 "metadata": {
  "kernelspec": {
   "display_name": "cuda-gpt",
   "language": "python",
   "name": "cuda"
  },
  "language_info": {
   "codemirror_mode": {
    "name": "ipython",
    "version": 3
   },
   "file_extension": ".py",
   "mimetype": "text/x-python",
   "name": "python",
   "nbconvert_exporter": "python",
   "pygments_lexer": "ipython3",
   "version": "3.12.4"
  }
 },
 "nbformat": 4,
 "nbformat_minor": 5
}
